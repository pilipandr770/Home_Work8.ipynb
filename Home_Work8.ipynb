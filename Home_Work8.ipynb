{
  "nbformat": 4,
  "nbformat_minor": 0,
  "metadata": {
    "colab": {
      "provenance": [],
      "authorship_tag": "ABX9TyPH+kmEEqMeh23TTgPC7WTS",
      "include_colab_link": true
    },
    "kernelspec": {
      "name": "python3",
      "display_name": "Python 3"
    },
    "language_info": {
      "name": "python"
    }
  },
  "cells": [
    {
      "cell_type": "markdown",
      "metadata": {
        "id": "view-in-github",
        "colab_type": "text"
      },
      "source": [
        "<a href=\"https://colab.research.google.com/github/pilipandr770/Home_Work8.ipynb/blob/main/Home_Work8.ipynb\" target=\"_parent\"><img src=\"https://colab.research.google.com/assets/colab-badge.svg\" alt=\"Open In Colab\"/></a>"
      ]
    },
    {
      "cell_type": "code",
      "source": [
        "# Імпорт необхідних бібліотек\n",
        "import pandas as pd\n",
        "from sklearn.model_selection import train_test_split\n",
        "from sklearn.preprocessing import StandardScaler\n",
        "from sklearn.ensemble import RandomForestClassifier\n",
        "from sklearn.svm import SVC\n",
        "from sklearn.metrics import classification_report"
      ],
      "metadata": {
        "id": "ue8gh_9IL7OQ"
      },
      "execution_count": 5,
      "outputs": []
    },
    {
      "cell_type": "code",
      "source": [
        "# Завантаження даних з Google Drive\n",
        "!gdown --id '1nzrtQpfaHL0OgJ_eXzA7VuEj7XotrSWO'"
      ],
      "metadata": {
        "colab": {
          "base_uri": "https://localhost:8080/"
        },
        "id": "CZZ9eZ6UMLiR",
        "outputId": "b2f96c25-7cd1-499a-f9ee-be3a635ba22d"
      },
      "execution_count": 6,
      "outputs": [
        {
          "output_type": "stream",
          "name": "stdout",
          "text": [
            "/usr/local/lib/python3.10/dist-packages/gdown/__main__.py:132: FutureWarning: Option `--id` was deprecated in version 4.3.1 and will be removed in 5.0. You don't need to pass it anymore to use a file ID.\n",
            "  warnings.warn(\n",
            "Downloading...\n",
            "From: https://drive.google.com/uc?id=1nzrtQpfaHL0OgJ_eXzA7VuEj7XotrSWO\n",
            "To: /content/homework.zip\n",
            "100% 4.21M/4.21M [00:00<00:00, 53.1MB/s]\n"
          ]
        }
      ]
    },
    {
      "cell_type": "code",
      "source": [
        "# Підключення до Google Drive\n",
        "from google.colab import drive\n",
        "drive.mount('/content/drive', force_remount=True)\n",
        "\n",
        "# Завантаження файлу з Google Drive\n",
        "!gdown --id '1nzrtQpfaHL0OgJ_eXzA7VuEj7XotrSWO' -O /content/homework.zip\n",
        "\n",
        "# Розпакування файлу\n",
        "!unzip /content/homework.zip -d /content/data\n"
      ],
      "metadata": {
        "id": "x123D4ggNF80"
      },
      "execution_count": null,
      "outputs": []
    },
    {
      "cell_type": "code",
      "source": [
        "# Читання одного з файлів\n",
        "sample_data = pd.read_csv('/content/data/data/running/running-453.csv')\n",
        "\n",
        "# Перегляд перших рядків даних\n",
        "print(sample_data.head())\n"
      ],
      "metadata": {
        "colab": {
          "base_uri": "https://localhost:8080/"
        },
        "id": "MI3LOjhAOBev",
        "outputId": "45d1eba5-12d9-4356-e514-cbb15cff5d9f"
      },
      "execution_count": 8,
      "outputs": [
        {
          "output_type": "stream",
          "name": "stdout",
          "text": [
            "   accelerometer_X  accelerometer_Y  accelerometer_Z\n",
            "0        11.530476        29.237991        12.531252\n",
            "1         4.438850        -0.727837        -1.446098\n",
            "2        -2.336741        11.343728       -10.984597\n",
            "3        14.470555        -1.403002         2.643199\n",
            "4        19.115307        31.723173         0.636858\n"
          ]
        }
      ]
    },
    {
      "cell_type": "code",
      "source": [
        "import glob\n",
        "\n",
        "# Отримання списку всіх файлів CSV\n",
        "all_files = glob.glob('/content/data/data/running/*.csv')\n",
        "\n",
        "# Об'єднання всіх файлів в один DataFrame\n",
        "data = pd.concat((pd.read_csv(f) for f in all_files))\n",
        "\n",
        "# Перегляд перших рядків об'єднаних даних\n",
        "print(data.head())\n"
      ],
      "metadata": {
        "colab": {
          "base_uri": "https://localhost:8080/"
        },
        "id": "asJHhJwGOI1N",
        "outputId": "b332e12e-3804-40bb-965b-90a3ae91c4fc"
      },
      "execution_count": 9,
      "outputs": [
        {
          "output_type": "stream",
          "name": "stdout",
          "text": [
            "   accelerometer_X  accelerometer_Y  accelerometer_Z\n",
            "0        -0.526724         6.287174         1.067814\n",
            "1         1.910573       -10.697293       -15.198392\n",
            "2        18.420988        22.443247        11.224017\n",
            "3        10.745177        22.606052         6.737284\n",
            "4         6.502652        -5.425261        -3.500323\n"
          ]
        }
      ]
    },
    {
      "cell_type": "code",
      "source": [
        "import glob\n",
        "import pandas as pd\n",
        "\n",
        "# Отримання списку всіх файлів CSV\n",
        "all_files = glob.glob('/content/data/data/*/*.csv')\n",
        "\n",
        "# Об'єднання всіх файлів в один DataFrame\n",
        "data = pd.concat((pd.read_csv(f) for f in all_files))\n",
        "\n",
        "# Перегляд перших рядків об'єднаних даних\n",
        "print(data.head())\n"
      ],
      "metadata": {
        "colab": {
          "base_uri": "https://localhost:8080/"
        },
        "id": "0cHV9YrFQKOT",
        "outputId": "c1642cf3-bf78-4039-8ea4-fd7e4a4f6ddb"
      },
      "execution_count": 12,
      "outputs": [
        {
          "output_type": "stream",
          "name": "stdout",
          "text": [
            "   accelerometer_X  accelerometer_Y  accelerometer_Z\n",
            "0        -0.526724         6.287174         1.067814\n",
            "1         1.910573       -10.697293       -15.198392\n",
            "2        18.420988        22.443247        11.224017\n",
            "3        10.745177        22.606052         6.737284\n",
            "4         6.502652        -5.425261        -3.500323\n"
          ]
        }
      ]
    },
    {
      "cell_type": "code",
      "source": [
        "import glob\n",
        "import pandas as pd\n",
        "\n",
        "# Отримання списку всіх файлів CSV\n",
        "all_files = glob.glob('/content/data/data/walking/*.csv')\n",
        "\n",
        "# Об'єднання всіх файлів в один DataFrame\n",
        "walking_data = pd.concat((pd.read_csv(f) for f in all_files))\n",
        "\n",
        "# Додавання колонки 'activity_type' зі значенням 'walking'\n",
        "walking_data['activity_type'] = 'walking'\n",
        "\n",
        "# Перегляд перших рядків об'єднаних даних\n",
        "print(walking_data.head())\n"
      ],
      "metadata": {
        "colab": {
          "base_uri": "https://localhost:8080/"
        },
        "id": "MstKbsSgQvp3",
        "outputId": "740263b4-d1c6-4cbe-f46f-3272b6ff7512"
      },
      "execution_count": 13,
      "outputs": [
        {
          "output_type": "stream",
          "name": "stdout",
          "text": [
            "   accelerometer_X  accelerometer_Y  accelerometer_Z activity_type\n",
            "0       -15.251065       -14.135366       -17.061080       walking\n",
            "1        -5.190629        -9.246407        -3.490746       walking\n",
            "2        -1.130063        -1.719037         3.433285       walking\n",
            "3         0.086191       -11.161768        -1.393425       walking\n",
            "4        -1.412579         1.249773         5.224149       walking\n"
          ]
        }
      ]
    },
    {
      "cell_type": "code",
      "source": [
        "# Отримання списку всіх файлів CSV\n",
        "all_files = glob.glob('/content/data/data/running/*.csv')\n",
        "\n",
        "# Об'єднання всіх файлів в один DataFrame\n",
        "running_data = pd.concat((pd.read_csv(f) for f in all_files))\n",
        "\n",
        "# Додавання колонки 'activity_type' зі значенням 'running'\n",
        "running_data['activity_type'] = 'running'\n",
        "\n",
        "# Перегляд перших рядків об'єднаних даних\n",
        "print(running_data.head())\n"
      ],
      "metadata": {
        "colab": {
          "base_uri": "https://localhost:8080/"
        },
        "id": "WrB9gkM3RNiA",
        "outputId": "ed733ebc-faf8-4b75-e73f-d322357f5dc8"
      },
      "execution_count": 14,
      "outputs": [
        {
          "output_type": "stream",
          "name": "stdout",
          "text": [
            "   accelerometer_X  accelerometer_Y  accelerometer_Z activity_type\n",
            "0        -0.526724         6.287174         1.067814       running\n",
            "1         1.910573       -10.697293       -15.198392       running\n",
            "2        18.420988        22.443247        11.224017       running\n",
            "3        10.745177        22.606052         6.737284       running\n",
            "4         6.502652        -5.425261        -3.500323       running\n"
          ]
        }
      ]
    },
    {
      "cell_type": "code",
      "source": [
        "from sklearn.preprocessing import MinMaxScaler\n",
        "\n",
        "scaler = MinMaxScaler()\n",
        "data[['accelerometer_X', 'accelerometer_Y', 'accelerometer_Z']] = scaler.fit_transform(data[['accelerometer_X', 'accelerometer_Y', 'accelerometer_Z']])\n"
      ],
      "metadata": {
        "id": "DiWeqMEoRRcX"
      },
      "execution_count": 15,
      "outputs": []
    },
    {
      "cell_type": "code",
      "source": [
        "from scipy import stats\n",
        "\n",
        "z_scores = stats.zscore(data[['accelerometer_X', 'accelerometer_Y', 'accelerometer_Z']])\n",
        "abs_z_scores = np.abs(z_scores)\n",
        "filtered_entries = (abs_z_scores < 3).all(axis=1)\n",
        "data = data[filtered_entries]\n"
      ],
      "metadata": {
        "id": "L--Hfv5cSKD7"
      },
      "execution_count": 16,
      "outputs": []
    },
    {
      "cell_type": "code",
      "source": [
        "data = data.fillna(data.mean())\n"
      ],
      "metadata": {
        "id": "BsQIlejTSPGX"
      },
      "execution_count": 19,
      "outputs": []
    },
    {
      "cell_type": "code",
      "source": [
        "print('activity_type' in data.columns)\n"
      ],
      "metadata": {
        "colab": {
          "base_uri": "https://localhost:8080/"
        },
        "id": "yPd6rMUmT26-",
        "outputId": "e28209ff-43a1-445f-dc9c-e78100d120cd"
      },
      "execution_count": 23,
      "outputs": [
        {
          "output_type": "stream",
          "name": "stdout",
          "text": [
            "False\n"
          ]
        }
      ]
    },
    {
      "cell_type": "code",
      "source": [
        "import glob\n",
        "import pandas as pd\n",
        "import os\n",
        "\n",
        "# Отримання списку всіх файлів CSV\n",
        "all_files = glob.glob('/content/data/data/*/*.csv')\n",
        "\n",
        "# Об'єднання всіх файлів в один DataFrame\n",
        "data = pd.concat((pd.read_csv(f).assign(activity_type=os.path.basename(os.path.dirname(f))) for f in all_files))\n",
        "\n",
        "# Перегляд перших рядків об'єднаних даних\n",
        "print(data.head())\n"
      ],
      "metadata": {
        "colab": {
          "base_uri": "https://localhost:8080/"
        },
        "id": "N96YuN66UbLy",
        "outputId": "6ab0ecfe-6306-48a7-aa82-74ef390941aa"
      },
      "execution_count": 24,
      "outputs": [
        {
          "output_type": "stream",
          "name": "stdout",
          "text": [
            "   accelerometer_X  accelerometer_Y  accelerometer_Z activity_type\n",
            "0        -0.526724         6.287174         1.067814       running\n",
            "1         1.910573       -10.697293       -15.198392       running\n",
            "2        18.420988        22.443247        11.224017       running\n",
            "3        10.745177        22.606052         6.737284       running\n",
            "4         6.502652        -5.425261        -3.500323       running\n"
          ]
        }
      ]
    },
    {
      "cell_type": "code",
      "source": [
        "# Об'єднання даних 'walking' та 'running' в один DataFrame\n",
        "data = pd.concat([walking_data, running_data])\n",
        "\n",
        "# Перегляд перших рядків об'єднаних даних\n",
        "print(data.head())\n"
      ],
      "metadata": {
        "colab": {
          "base_uri": "https://localhost:8080/"
        },
        "id": "XxBDXqWrUtiu",
        "outputId": "8ea63eb8-26f4-42a6-8b1e-f09d680f6dc2"
      },
      "execution_count": 25,
      "outputs": [
        {
          "output_type": "stream",
          "name": "stdout",
          "text": [
            "   accelerometer_X  accelerometer_Y  accelerometer_Z activity_type\n",
            "0       -15.251065       -14.135366       -17.061080       walking\n",
            "1        -5.190629        -9.246407        -3.490746       walking\n",
            "2        -1.130063        -1.719037         3.433285       walking\n",
            "3         0.086191       -11.161768        -1.393425       walking\n",
            "4        -1.412579         1.249773         5.224149       walking\n"
          ]
        }
      ]
    },
    {
      "cell_type": "code",
      "source": [
        "from sklearn.model_selection import train_test_split\n",
        "from sklearn.preprocessing import StandardScaler\n",
        "\n",
        "# Розділення даних на ознаки (X) та цільову змінну (y)\n",
        "X = data[['accelerometer_X', 'accelerometer_Y', 'accelerometer_Z']]\n",
        "y = data['activity_type']\n",
        "\n",
        "# Розділення даних на навчальний та тестовий набори\n",
        "X_train, X_test, y_train, y_test = train_test_split(X, y, test_size=0.2, random_state=42)\n",
        "\n",
        "# Нормалізація даних\n",
        "scaler = StandardScaler()\n",
        "X_train = scaler.fit_transform(X_train)\n",
        "X_test = scaler.transform(X_test)\n"
      ],
      "metadata": {
        "id": "6dLSYn4JVdKz"
      },
      "execution_count": 27,
      "outputs": []
    },
    {
      "cell_type": "code",
      "source": [
        "from sklearn.ensemble import RandomForestClassifier\n",
        "from sklearn.svm import SVC\n",
        "from sklearn.metrics import classification_report\n",
        "\n",
        "# Навчання моделі випадкового лісу\n",
        "rf = RandomForestClassifier()\n",
        "rf.fit(X_train, y_train)\n",
        "\n",
        "# Навчання моделі SVM\n",
        "svm = SVC()\n",
        "svm.fit(X_train, y_train)\n",
        "\n",
        "# Передбачення на тестовому наборі\n",
        "rf_preds = rf.predict(X_test)\n",
        "svm_preds = svm.predict(X_test)\n",
        "\n",
        "# Виведення звітів про класифікацію\n",
        "print(\"Random Forest Classification Report:\")\n",
        "print(classification_report(y_test, rf_preds))\n",
        "\n",
        "print(\"SVM Classification Report:\")\n",
        "print(classification_report(y_test, svm_preds))\n"
      ],
      "metadata": {
        "colab": {
          "base_uri": "https://localhost:8080/"
        },
        "id": "G0lO1OcOVqqZ",
        "outputId": "c042ed5c-7525-4ea7-cebc-9cf55e905f9b"
      },
      "execution_count": 28,
      "outputs": [
        {
          "output_type": "stream",
          "name": "stdout",
          "text": [
            "Random Forest Classification Report:\n",
            "              precision    recall  f1-score   support\n",
            "\n",
            "     running       1.00      1.00      1.00     20649\n",
            "     walking       1.00      1.00      1.00     10899\n",
            "\n",
            "    accuracy                           1.00     31548\n",
            "   macro avg       1.00      1.00      1.00     31548\n",
            "weighted avg       1.00      1.00      1.00     31548\n",
            "\n",
            "SVM Classification Report:\n",
            "              precision    recall  f1-score   support\n",
            "\n",
            "     running       0.95      0.92      0.93     20649\n",
            "     walking       0.85      0.90      0.87     10899\n",
            "\n",
            "    accuracy                           0.91     31548\n",
            "   macro avg       0.90      0.91      0.90     31548\n",
            "weighted avg       0.91      0.91      0.91     31548\n",
            "\n"
          ]
        }
      ]
    },
    {
      "cell_type": "markdown",
      "source": [
        " Ось короткий аналіз результатів:\n",
        "\n",
        "Модель випадкового лісу показала відмінні результати з точністю, повнотою та F1-оцінкою 1.00 для обох класів (“running” та “walking”). Це означає, що модель дуже добре впоралася з класифікацією обох типів активності.\n",
        "Модель SVM також показала добрі результати, але не настільки високі, як модель випадкового лісу. Точність для класу “running” становила 0.95, а для класу “walking” - 0.85. Повнота (recall) для “running” становила 0.92, а для “walking” - 0.90. F1-оцінка для “running” становила 0.93, а для “walking” - 0.87.\n",
        "Загалом, обидві моделі показали добрі результати, але модель випадкового лісу виявилася кращою за модель SVM для цього конкретного набору даних."
      ],
      "metadata": {
        "id": "LS3n1esvX6jh"
      }
    },
    {
      "cell_type": "code",
      "source": [
        "import numpy as np\n",
        "\n",
        "# Припустимо, що 'data' - це ваш DataFrame, який містить дані акселерометра\n",
        "# 'window_size' - це розмір вікна для обчислення time domain features\n",
        "\n",
        "window_size = 50 # Змініть це значення відповідно до вашого завдання\n",
        "\n",
        "# Створення порожніх списків для зберігання time domain features\n",
        "mean_X, mean_Y, mean_Z = [], [], []\n",
        "std_X, std_Y, std_Z = [], [], []\n",
        "\n",
        "# Обчислення time domain features для кожного вікна\n",
        "for i in range(0, len(data), window_size):\n",
        "    window_data = data.iloc[i:i+window_size]\n",
        "\n",
        "    mean_X.append(np.mean(window_data['accelerometer_X']))\n",
        "    mean_Y.append(np.mean(window_data['accelerometer_Y']))\n",
        "    mean_Z.append(np.mean(window_data['accelerometer_Z']))\n",
        "\n",
        "    std_X.append(np.std(window_data['accelerometer_X']))\n",
        "    std_Y.append(np.std(window_data['accelerometer_Y']))\n",
        "    std_Z.append(np.std(window_data['accelerometer_Z']))\n",
        "\n",
        "# Створення нового DataFrame з time domain features\n",
        "time_domain_features = pd.DataFrame({\n",
        "    'mean_X': mean_X,\n",
        "    'mean_Y': mean_Y,\n",
        "    'mean_Z': mean_Z,\n",
        "    'std_X': std_X,\n",
        "    'std_Y': std_Y,\n",
        "    'std_Z': std_Z\n",
        "})\n"
      ],
      "metadata": {
        "id": "bKhhRApynezY"
      },
      "execution_count": 3,
      "outputs": []
    },
    {
      "source": [
        "import numpy as np\n",
        "import pandas as pd # Import the pandas library\n",
        "\n",
        "# Припустимо, що 'data' - це ваш DataFrame, який містить дані акселерометра\n",
        "# 'window_size' - це розмір вікна для обчислення time domain features\n",
        "\n",
        "# Create a sample DataFrame (replace this with your actual data)\n",
        "data = pd.DataFrame({\n",
        "    'accelerometer_X': np.random.rand(100),\n",
        "    'accelerometer_Y': np.random.rand(100),\n",
        "    'accelerometer_Z': np.random.rand(100)\n",
        "})\n",
        "\n",
        "window_size = 50\n",
        "\n",
        "# Створення порожніх списків для зберігання time domain features\n",
        "mean_X, mean_Y, mean_Z = [], [], []\n",
        "std_X, std_Y, std_Z = [], [], []\n",
        "\n",
        "# Обчислення time domain features для кожного вікна\n",
        "for i in range(0, len(data), window_size):\n",
        "    window_data = data.iloc[i:i+window_size]\n",
        "\n",
        "    mean_X.append(np.mean(window_data['accelerometer_X']))\n",
        "    mean_Y.append(np.mean(window_data['accelerometer_Y']))\n",
        "    mean_Z.append(np.mean(window_data['accelerometer_Z']))\n",
        "\n",
        "    std_X.append(np.std(window_data['accelerometer_X']))\n",
        "    std_Y.append(np.std(window_data['accelerometer_Y']))\n",
        "    std_Z.append(np.std(window_data['accelerometer_Z']))\n",
        "\n",
        "# Створення нового DataFrame з time domain features\n",
        "time_domain_features = pd.DataFrame({\n",
        "    'mean_X': mean_X,\n",
        "    'mean_Y': mean_Y,\n",
        "    'mean_Z': mean_Z,\n",
        "    'std_X': std_X,\n",
        "    'std_Y': std_Y,\n",
        "    'std_Z': std_Z\n",
        "})"
      ],
      "cell_type": "code",
      "metadata": {
        "id": "kW04ikCQnvDb"
      },
      "execution_count": 6,
      "outputs": []
    }
  ]
}